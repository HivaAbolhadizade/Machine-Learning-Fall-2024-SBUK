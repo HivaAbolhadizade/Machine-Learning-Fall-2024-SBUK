{
  "cells": [
    {
      "cell_type": "markdown",
      "metadata": {
        "id": "Ecaqr9YkWpbL"
      },
      "source": [
        "# Neural Networks from Scratch\n",
        "\n",
        "\n",
        "\n",
        "\n"
      ]
    },
    {
      "cell_type": "code",
      "execution_count": 1,
      "metadata": {
        "id": "PqFOwWLZVPI0"
      },
      "outputs": [],
      "source": [
        "# @title setup and imports\n",
        "\n",
        "import numpy as np\n",
        "from matplotlib import pyplot as plt\n",
        "from sklearn.datasets import fetch_openml\n",
        "from sklearn.model_selection import train_test_split\n",
        "from sklearn.metrics import confusion_matrix\n",
        "from tqdm import trange\n",
        "import ipywidgets as widgets\n",
        "from IPython.display import display"
      ]
    },
    {
      "cell_type": "code",
      "execution_count": 2,
      "metadata": {
        "id": "9AKM0RgiVSOQ"
      },
      "outputs": [],
      "source": [
        "# @title helper functions\n",
        "\n",
        "def plot_training(losses):\n",
        "    # Plot the loss\n",
        "    plt.plot(losses)\n",
        "    plt.title(\"Training loss\")\n",
        "    plt.xlabel(\"Epoch\")\n",
        "    plt.ylabel(\"Loss\")\n",
        "    plt.show()\n",
        "\n",
        "\n",
        "def plot_confusion_matrix(y_true, y_pred, class_names, kept_classes):\n",
        "    dim = len(kept_classes)\n",
        "    labels = [class_names[i] for i in kept_classes]\n",
        "    # Plot the confusion matrix\n",
        "    conf_mat = confusion_matrix(y_true, y_pred)\n",
        "    norm_conf_mat = conf_mat / np.sum(conf_mat, axis=1)\n",
        "    # plot the matrix\n",
        "    fig, ax = plt.subplots()\n",
        "    plt.imshow(norm_conf_mat)\n",
        "    plt.title('Confusion Matrix')\n",
        "    plt.xlabel('Predictions')\n",
        "    plt.ylabel('Labels')\n",
        "    plt.xticks(range(dim), labels, rotation=45)\n",
        "    plt.yticks(range(dim), labels)\n",
        "    plt.colorbar()\n",
        "    # Put number of each cell in plot\n",
        "    for i in range(dim):\n",
        "        for j in range(dim):\n",
        "            c = conf_mat[j, i]\n",
        "            color = 'black' if c > 500 else 'white'\n",
        "            ax.text(i, j, str(int(c)), va='center', ha='center', color=color)\n",
        "    plt.show()\n",
        "\n",
        "\n",
        "def get_data(filter_classes):\n",
        "    fashion_mnist = fetch_openml(\"Fashion-MNIST\", parser='auto')\n",
        "    x, y = fashion_mnist['data'], fashion_mnist['target'].astype(int)\n",
        "    # Remove classes\n",
        "    filtered_indices = np.isin(y, filter_classes)\n",
        "    x, y = x[filtered_indices].to_numpy(), y[filtered_indices]\n",
        "    # Normalize the pixels to be in [-1, +1] range\n",
        "    x = ((x / 255.) - .5) * 2\n",
        "    removed_class_count = 0\n",
        "    for i in range(10):  # Fix the labels\n",
        "        if i in filter_classes and removed_class_count != 0:\n",
        "            y[y == i] = i - removed_class_count\n",
        "        elif i not in filter_classes:\n",
        "            removed_class_count += 1\n",
        "    # Do the train-test split\n",
        "    return train_test_split(x, y, test_size=10_000)\n",
        "\n",
        "\n",
        "def onehot_encoder(y, num_labels):\n",
        "    one_hot = np.zeros(shape=(y.size, num_labels), dtype=int)\n",
        "    one_hot[np.arange(y.size), y] = 1\n",
        "    return one_hot\n",
        "\n",
        "\n",
        "def plot_batch_size(vanila, stochastic, mini_batch):\n",
        "    fig, axes = plt.subplots(2, 2)\n",
        "    # Plot the loss\n",
        "    axes[0, 0].plot(vanila[0], label='Gradient Descent')\n",
        "    axes[0, 0].plot(stochastic[0], label='Stochastic Gradient Descent')\n",
        "    axes[0, 0].plot(mini_batch[0], label='Mini-Batch Gradient Descent')\n",
        "    axes[0, 0].set_xlabel('Epoch'), axes[0, 0].set_ylabel('Loss')\n",
        "    axes[0, 0].set_title('Training Loss'), axes[0, 0].legend()\n",
        "    # Plot the accuracy\n",
        "    axes[0, 1].plot(vanila[2], label='Gradient Descent')\n",
        "    axes[0, 1].plot(stochastic[2], label='Stochastic Gradient Descent')\n",
        "    axes[0, 1].plot(mini_batch[2], label='Mini-Batch Gradient Descent')\n",
        "    axes[0, 1].set_xlabel('Epoch'), axes[0, 1].set_ylabel('Accuracy')\n",
        "    axes[0, 1].set_title('Test Accuracy'), axes[0, 1].legend()\n",
        "    # Plot SGD batch loss\n",
        "    axes[1, 0].plot(stochastic[1], label='Stochastic Gradient Descent')\n",
        "    axes[1, 0].set_xlabel('Batch'), axes[1, 0].set_ylabel('Loss')\n",
        "    axes[1, 0].set_title('Stochastic Gradient Descent')\n",
        "    # Plot MBGD batch loss\n",
        "    axes[1, 1].plot(mini_batch[1], label='Mini-Batch Gradient Descent')\n",
        "    axes[1, 1].set_xlabel('Batch'), axes[1, 1].set_ylabel('Loss')\n",
        "    axes[1, 1].set_title('Mini-Batch Gradient Descent')\n",
        "\n",
        "    fig.set_size_inches(16, 12)\n",
        "    plt.show()"
      ]
    },
    {
      "cell_type": "markdown",
      "metadata": {
        "id": "GvFUeXMNadnZ"
      },
      "source": [
        "# Layers"
      ]
    },
    {
      "cell_type": "markdown",
      "metadata": {
        "id": "KThKuK5DJHAH"
      },
      "source": [
        "## Abstract Layer Class\n",
        "\n",
        "The `Layer` class serves as an abstract base class for all layers in the network. It includes placeholder methods:\n",
        "- `forward`: The forward pass computes the output of the layer given an input.\n",
        "- `backward`: The backward pass computes the gradients with respect to the input and parameters.\n",
        "- `step`: Updates the layer parameters (weights and biases)."
      ]
    },
    {
      "cell_type": "code",
      "execution_count": 3,
      "metadata": {
        "id": "5HmznEXldEaI"
      },
      "outputs": [],
      "source": [
        "class Layer:\n",
        "    def __init__(self):\n",
        "        self.inp = None\n",
        "        self.out = None\n",
        "\n",
        "    def __call__(self, inp: np.ndarray) -> np.ndarray:\n",
        "        return self.forward(inp)\n",
        "\n",
        "    def forward(self, inp: np.ndarray) -> np.ndarray:\n",
        "        raise NotImplementedError\n",
        "\n",
        "    def backward(self, up_grad: np.ndarray) -> np.ndarray:\n",
        "        raise NotImplementedError\n",
        "\n",
        "    def step(self, lr: float) -> None:\n",
        "        pass"
      ]
    },
    {
      "cell_type": "markdown",
      "metadata": {
        "id": "eB1SjTeaJztY"
      },
      "source": [
        "## Linear Layers\n",
        "\n",
        "The `Linear` class implements the fully connected (or dense) layer of a neural network, which performs a linear transformation on the input:\n",
        "\n",
        "$$\\mathbf{y} = \\mathbf{x} \\cdot \\mathbf{W} + \\mathbf{b}$$"
      ]
    },
    {
      "cell_type": "markdown",
      "metadata": {
        "id": "phTfqRsVIZKA"
      },
      "source": [
        "**Initialization**\n",
        "- `self.w`: Represents the weight matrix of shape `(in_dim, out_dim)`, initialized using small random values.\n",
        "- `self.b`: Bias vector of shape `(1, out_dim)`, initialized to zeros.\n",
        "- `self.dw` and `self.db`: These store the computed gradients of weights and biases during backpropagation.\n",
        "\n",
        "\n",
        "\n",
        "\n",
        "**Forward Pass**\n",
        "- The forward pass computes:\n",
        "$$\\mathbf{out} = \\mathbf{inp} \\cdot \\mathbf{W} + \\mathbf{b}$$\n",
        "where:\n",
        "  - `inp`: Input matrix of shape `(batch_size, in_dim)`\n",
        "  - `self.w`: Weight matrix of shape `(in_dim, out_dim)`\n",
        "  -\t`self.b`: Bias matrix of shape `(1, out_dim)`\n",
        "-\tThe result is a matrix out of shape `(batch_size, out_dim)`.\n",
        "\n",
        "\n",
        "\n",
        "\n",
        "**Backward Pass**\n",
        "- The backward pass computes gradients needed for updating the weights and biases. Given the upstream gradient `up_grad` (from the loss with respect to the output of this layer), we calculate:\n",
        "  - Gradient w.r.t. weights (`self.dw`):\n",
        "    $$ \\frac{\\partial L}{\\partial W} = \\mathbf{inp}^T \\cdot \\text{up_grad} $$\n",
        "  - Gradient w.r.t. biases (`self.db`):\n",
        "    $$\\frac{\\partial L}{\\partial b} = \\sum \\text{up_grad} \\text{ (summed across batch)}$$\n",
        "  - Gradient to propagate to the previous layer (`down_grad`):\n",
        "    $$\\text{down_grad} = \\text{up_grad} \\cdot W^T$$\n",
        "- This allows the gradient to flow backward to earlier layers.\n",
        "\n",
        "\n",
        "\n",
        "\n",
        "**Step Method**\n",
        "- Updates the weights and biases using the computed gradients and learning rate (`lr`):\n",
        "    $$W = W - lr \\cdot \\frac{\\partial L}{\\partial W}$$\n",
        "    $$b = b - lr \\cdot \\frac{\\partial L}{\\partial b}$$\n"
      ]
    },
    {
      "cell_type": "code",
      "execution_count": 4,
      "metadata": {
        "id": "pF0DKJV_JRnh"
      },
      "outputs": [],
      "source": [
        "class Linear:  # Note: Extend from Layer if you're using a parent class\n",
        "    def __init__(self, in_dim: int, out_dim: int):\n",
        "        \"\"\"\n",
        "        Initialize the Linear layer.\n",
        "        Args:\n",
        "            in_dim (int): Number of input features.\n",
        "            out_dim (int): Number of output features.\n",
        "        \"\"\"\n",
        "        # Initialize weights using He initialization\n",
        "        self.w = np.random.randn(in_dim, out_dim) * np.sqrt(2.0 / in_dim)\n",
        "        self.b = np.zeros((1, out_dim))\n",
        "\n",
        "        # Initialize gradients (used during backpropagation)\n",
        "        self.dw = np.zeros_like(self.w)  # TODO: Initialize with zeros_like(self.w)\n",
        "        self.db = np.zeros_like(self.b)  # TODO: Initialize with zeros_like(self.b)\n",
        "\n",
        "    def forward(self, inp: np.ndarray) -> np.ndarray:\n",
        "        \"\"\"\n",
        "        Perform the forward pass.\n",
        "        Args:\n",
        "            inp (np.ndarray): Input tensor, shape (batch_size, in_dim).\n",
        "        Returns:\n",
        "            np.ndarray: Output tensor, shape (batch_size, out_dim).\n",
        "        \"\"\"\n",
        "        # Store the input for backpropagation\n",
        "        self.inp = inp\n",
        "\n",
        "        # Compute output\n",
        "        self.out = np.dot(inp, self.w) + self.b\n",
        "        return self.out\n",
        "\n",
        "\n",
        "    def backward(self, up_grad: np.ndarray) -> np.ndarray:\n",
        "        \"\"\"\n",
        "        Perform the backward pass.\n",
        "        Args:\n",
        "            up_grad (np.ndarray): Gradient of the loss wrt output, shape (batch_size, out_dim).\n",
        "        Returns:\n",
        "            np.ndarray: Gradient of the loss wrt input, shape (batch_size, in_dim).\n",
        "        \"\"\"\n",
        "        # Gradient w.r.t. weights\n",
        "        self.dw = np.dot(self.inp.T, up_grad)\n",
        "\n",
        "        # Gradient w.r.t. biases\n",
        "        self.db = np.sum(up_grad, axis=0, keepdims=True)\n",
        "\n",
        "        # Gradient to propagate back\n",
        "        down_grad = np.dot(up_grad, self.w.T)\n",
        "        return down_grad\n",
        "\n",
        "\n",
        "    def step(self, lr: float) -> None:\n",
        "        \"\"\"\n",
        "        Update the weights and biases using the gradients.\n",
        "        Args:\n",
        "            lr (float): Learning rate.\n",
        "        \"\"\"\n",
        "        self.w -= lr * self.dw\n",
        "        self.b -= lr * self.db"
      ]
    },
    {
      "cell_type": "markdown",
      "metadata": {
        "id": "yr6hBcY4N00B"
      },
      "source": [
        "## Activation Functions\n",
        "\n",
        "We can implement activation functions as layers. This will simplify the training process"
      ]
    },
    {
      "cell_type": "markdown",
      "metadata": {
        "id": "zsuMui_fLCWf"
      },
      "source": [
        "### Sigmoid\n",
        "\n",
        "- The Sigmoid function is defined as follows:\n",
        "\n",
        "$$f(x) = \\frac{1}{1 + e^{-x}}$$\n",
        "\n",
        "- Sigmoid squashes the input into the range [0, 1], making it useful for binary classification tasks.\n",
        "- It converts any real-valued number into a probability-like output.\n",
        "- However, in deeper networks, it may cause vanishing gradients due to its flat slope for extreme values.\n",
        "- The derivative of Sigmoid is convenient to compute using its output  $f(x)$:\n",
        "$$f'(x) = \\frac{-e^{-x}}{(1 + e^{-x})^2} = \\frac{1}{1 + e^{-x}} \\cdot \\frac{e^{-x}}{1 + e^{-x}} = f(x) \\cdot (1-f(x))$$"
      ]
    },
    {
      "cell_type": "code",
      "execution_count": 5,
      "metadata": {
        "id": "cxGzqMybEGt-"
      },
      "outputs": [],
      "source": [
        "class Sigmoid:\n",
        "    def forward(self, inp: np.ndarray) -> np.ndarray:\n",
        "        \"\"\"\n",
        "        Sigmoid Activation: f(x) = 1 / (1 + exp(-x))\n",
        "        Args:\n",
        "            inp (np.ndarray): Input tensor, shape (batch_size, num_features).\n",
        "        Returns:\n",
        "            np.ndarray: Output tensor after applying the Sigmoid function.\n",
        "        \"\"\"\n",
        "        # Compute the Sigmoid activation\n",
        "        self.out = 1 / (1 + np.exp(-inp))\n",
        "        return self.out\n",
        "\n",
        "    def backward(self, up_grad: np.ndarray) -> np.ndarray:\n",
        "        \"\"\"\n",
        "        Backward pass for Sigmoid.\n",
        "        f'(x) = f(x) * (1 - f(x))\n",
        "        Args:\n",
        "            up_grad (np.ndarray): Gradient of the loss wrt output, shape (batch_size, num_features).\n",
        "        Returns:\n",
        "            np.ndarray: Gradient of the loss wrt input, shape (batch_size, num_features).\n",
        "        \"\"\"\n",
        "        # Compute the downstream gradient using the derivative of Sigmoid\n",
        "        down_grad = up_grad * self.out * (1 - self.out)\n",
        "        return down_grad"
      ]
    },
    {
      "cell_type": "markdown",
      "metadata": {
        "id": "08aibrACJ_kr"
      },
      "source": [
        "### ReLU (Rectified Linear Unit)\n",
        "\n",
        "- The ReLU function outputs 0 if the input is less than zero, otherwise it will return the input itself:\n",
        "$$f(x) = \\max(0,x) $$\n",
        "\n",
        "- ReLU helps introduce non-linearity into the model, which is essential for learning complex patterns.\n",
        "- It also helps avoid the vanishing gradient problem common in deep networks with the Sigmoid activation.\n",
        "- During backpropagation, only the gradients for inputs greater than 0 pass through:\n",
        "\n",
        "$$ f'(x) = \\begin{cases} 1 & \\text{if } x > 0 \\\\ 0 & \\text{otherwise} \\end{cases}$$\n"
      ]
    },
    {
      "cell_type": "code",
      "execution_count": 6,
      "metadata": {
        "id": "dHaTiE10HART"
      },
      "outputs": [],
      "source": [
        "class ReLU:\n",
        "    def forward(self, inp: np.ndarray) -> np.ndarray:\n",
        "        \"\"\"\n",
        "        ReLU Activation: f(x) = max(0, x)\n",
        "        Args:\n",
        "            inp (np.ndarray): Input tensor, shape (batch_size, num_features).\n",
        "        Returns:\n",
        "            np.ndarray: Output tensor after applying ReLU activation.\n",
        "        \"\"\"\n",
        "        # Store the input for use in the backward pass\n",
        "        self.inp = inp\n",
        "        # Compute the ReLU output\n",
        "        self.out = np.maximum(0, inp)\n",
        "        return self.out\n",
        "\n",
        "    def backward(self, up_grad: np.ndarray) -> np.ndarray:\n",
        "        \"\"\"\n",
        "        Backward pass for ReLU.\n",
        "        Derivative is 1 where input > 0, else 0.\n",
        "        Args:\n",
        "            up_grad (np.ndarray): Gradient of the loss wrt output, shape (batch_size, num_features).\n",
        "        Returns:\n",
        "            np.ndarray: Gradient of the loss wrt input, shape (batch_size, num_features).\n",
        "        \"\"\"\n",
        "        # Compute the gradient of ReLU\n",
        "        down_grad = up_grad * (self.inp > 0).astype(np.float32)\n",
        "        return down_grad\n"
      ]
    },
    {
      "cell_type": "markdown",
      "metadata": {
        "id": "_3ekD5bNl1xD"
      },
      "source": [
        "Softmax\n",
        "\n",
        "- The Softmax function is defined as follows:\n",
        "$$f(x_i) = \\frac{e^{x_i}}{\\sum_j e^{x_j}}$$\n",
        "\n",
        "- Softmax normalizes the input values into probabilities that sum to 1.\n",
        "- It's typically used in the final layer of a neural network for multi-class classification.\n",
        "- It converts raw scores into probabilities, where each class has a non-negative probability between 0 and 1.\n",
        "- Subtracting the maximum input value (`np.max(inp)`) from all inputs before applying `np.exp` helps prevent overflow errors."
      ]
    },
    {
      "cell_type": "code",
      "execution_count": 7,
      "metadata": {
        "id": "qVX1r6w-l2yr"
      },
      "outputs": [],
      "source": [
        "class Softmax:\n",
        "    def forward(self, inp: np.ndarray) -> np.ndarray:\n",
        "        \"\"\"\n",
        "        Softmax Activation: f(x) = exp(x) / sum(exp(x)).\n",
        "        Args:\n",
        "            inp (np.ndarray): Input tensor, shape (batch_size, num_features).\n",
        "        Returns:\n",
        "            np.ndarray: Output tensor after applying the softmax activation.\n",
        "        \"\"\"\n",
        "        # Subtract max value for numerical stability\n",
        "        exp_values = np.exp(inp - np.max(inp, axis=1, keepdims=True))\n",
        "        # Compute the softmax output\n",
        "        self.out = exp_values / np.sum(exp_values, axis=1, keepdims=True)\n",
        "        return self.out\n",
        "\n",
        "    def backward(self, up_grad: np.ndarray) -> np.ndarray:\n",
        "        \"\"\"\n",
        "        Backward pass for Softmax using the Jacobian matrix.\n",
        "        Args:\n",
        "            up_grad (np.ndarray): Gradient of the loss wrt softmax output, shape (batch_size, num_features).\n",
        "        Returns:\n",
        "            np.ndarray: Gradient of the loss wrt softmax input, shape (batch_size, num_features).\n",
        "        \"\"\"\n",
        "        # Initialize the gradient matrix for the softmax output\n",
        "        down_grad = np.empty_like(up_grad)\n",
        "\n",
        "        for i in range(up_grad.shape[0]):  # Loop over each sample in the batch\n",
        "            # Get the softmax output for a single example as a column vector\n",
        "            single_output = self.out[i].reshape(-1, 1)\n",
        "\n",
        "            # Compute the Jacobian matrix for softmax\n",
        "            jacobian = np.diagflat(single_output) - np.dot(single_output, single_output.T)\n",
        "\n",
        "            # Apply the Jacobian matrix to the upstream gradient\n",
        "            down_grad[i] = np.dot(jacobian, up_grad[i])\n",
        "\n",
        "        return down_grad"
      ]
    },
    {
      "cell_type": "markdown",
      "metadata": {
        "id": "sl2nW4KnSgYs"
      },
      "source": [
        "# Loss Functions"
      ]
    },
    {
      "cell_type": "markdown",
      "metadata": {
        "id": "oyEmTPR-TLDk"
      },
      "source": [
        "## Abstract Loss Class\n",
        "\n",
        "The `Loss` class serves as an abstract base class for all layers in the network. It includes placeholder methods:\n",
        "- `forward`: To compute the loss given predictions and targets.\n",
        "- `backward`: To compute the loss given predictions and targets."
      ]
    },
    {
      "cell_type": "code",
      "execution_count": 8,
      "metadata": {
        "id": "qMb2DsJNSp3f"
      },
      "outputs": [],
      "source": [
        "class Loss:\n",
        "    def __init__(self):\n",
        "        self.prediction = None\n",
        "        self.target = None\n",
        "        self.loss = None\n",
        "\n",
        "    def __call__(self, prediction: np.ndarray, target: np.ndarray) -> float:\n",
        "        return self.forward(prediction, target)\n",
        "\n",
        "    def forward(self, prediction: np.ndarray, target: np.ndarray) -> float:\n",
        "        raise NotImplementedError\n",
        "\n",
        "    def backward(self) -> np.ndarray:\n",
        "        raise NotImplementedError"
      ]
    },
    {
      "cell_type": "markdown",
      "metadata": {
        "id": "__nX-zlJTo3B"
      },
      "source": [
        "## Cross-Entropy Loss\n",
        "\n",
        "Cross-entropy loss is typically used in classification tasks since it measures the dissimilarity between the true distribution (target) and the predicted probability distribution (prediction):\n",
        "\n",
        "$$L = - \\frac{1}{N} \\sum_{i} \\sum_{c} y_{ic} \\log(p_{ic})$$\n",
        "\n",
        "where $y_{ic}$ is the one-hot encoded true label (target), $p_{ic}$ is the predicted probability (output from Softmax) and $N$ is the batch size.\n"
      ]
    },
    {
      "cell_type": "code",
      "execution_count": 15,
      "metadata": {
        "id": "lyF-rhVvSy1q"
      },
      "outputs": [],
      "source": [
        "class CrossEntropy(Loss):  # Note : Extends from the abstract Loss class\n",
        "    def forward(self, prediction: np.ndarray, target: np.ndarray) -> float:\n",
        "        \"\"\"\n",
        "        Cross-Entropy Loss for classification.\n",
        "        Args:\n",
        "            prediction (np.ndarray): Predicted probabilities, shape (batch_size, num_classes).\n",
        "            target (np.ndarray): One-hot encoded true labels, shape (batch_size, num_classes).\n",
        "        Returns:\n",
        "            float: Scalar loss value.\n",
        "        \"\"\"\n",
        "        # Store prediction and target for backward pass\n",
        "        self.prediction = prediction\n",
        "        self.target = target\n",
        "\n",
        "        # Clip predictions to avoid log(0) errors\n",
        "        clipped_pred = np.clip(prediction, 1e-12, 1.0)\n",
        "\n",
        "        # Compute the cross-entropy loss\n",
        "        self.loss = -np.mean(np.sum(target * np.log(clipped_pred), axis=1))\n",
        "        return self.loss\n",
        "\n",
        "    def backward(self) -> np.ndarray:\n",
        "        \"\"\"\n",
        "        Gradient of Cross-Entropy Loss.\n",
        "        Returns:\n",
        "            np.ndarray: Gradient of the loss w.r.t predictions, shape (batch_size, num_classes).\n",
        "        \"\"\"\n",
        "        # Compute the gradient\n",
        "        grad = -(self.target / np.clip(self.prediction, 1e-12, 1.0)) / self.target.shape[0]\n",
        "        return grad"
      ]
    },
    {
      "cell_type": "markdown",
      "metadata": {
        "id": "-i8pHfR9TrYa"
      },
      "source": [
        "## Mean Squared Error (MSE) Loss\n",
        "\n",
        "MSE is used primarily for regression tasks, where you need to measure the distance between the predicted continuous values and the true values:\n",
        "\n",
        "$$L = \\frac{1}{N} \\sum_{i} (p_i - y_i)^2$$\n",
        "\n",
        "where $p_i$ is the predicted value, $y_i$ is the true value (target) and $N$ is the batch size.\n",
        "\n",
        "The gradient measures the difference between the prediction and the target, scaled by the batch size:\n",
        "\n",
        "$$\\frac{\\partial L}{\\partial p_i} = \\frac{2}{N} (p_i - y_i)$$\n"
      ]
    },
    {
      "cell_type": "code",
      "execution_count": 16,
      "metadata": {
        "id": "0ZmkwcRCSzRd"
      },
      "outputs": [],
      "source": [
        "class MSE:\n",
        "    def forward(self, prediction: np.ndarray, target: np.ndarray) -> float:\n",
        "        \"\"\"\n",
        "        Mean Squared Error (MSE) Loss for regression.\n",
        "        Args:\n",
        "            prediction (np.ndarray): Predicted values, shape (batch_size, num_features).\n",
        "            target (np.ndarray): True values, shape (batch_size, num_features).\n",
        "        Returns:\n",
        "            float: Scalar loss value.\n",
        "        \"\"\"\n",
        "        # Store prediction and target for backward pass\n",
        "        self.prediction = prediction\n",
        "        self.target = target\n",
        "\n",
        "        # Compute the Mean Squared Error (MSE) loss\n",
        "        self.loss = np.mean((self.prediction - self.target) ** 2)\n",
        "        return self.loss\n",
        "\n",
        "    def backward(self) -> np.ndarray:\n",
        "        \"\"\"\n",
        "        Gradient of MSE Loss.\n",
        "        Returns:\n",
        "            np.ndarray: Gradient of the loss wrt predictions, shape (batch_size, num_features).\n",
        "        \"\"\"\n",
        "        # Compute the gradient of the MSE loss\n",
        "        grad = 2 * (self.prediction - self.target) / self.target.size\n",
        "        return grad\n"
      ]
    },
    {
      "cell_type": "markdown",
      "metadata": {
        "id": "p1KKCeDWUNJc"
      },
      "source": [
        "# Neural Network"
      ]
    },
    {
      "cell_type": "markdown",
      "metadata": {
        "id": "MJno_CD7hK1u"
      },
      "source": [
        "Now we can combine everything we've done earlier to build a neural network class called `MLP` with the following methods:\n",
        "\n",
        "- `forward`: Sequentially passes input through each layer in the network to compute the output.\n",
        "- `loss`: Computes the loss between the predicted output and the true target using the specified loss function.\n",
        "- `backward`: Propagates the gradient from the loss function through each layer, updating the gradients of the parameters in each layer.\n",
        "- `update`: Updates each layer's parameters (e.g., weights and biases) using the gradients computed during backpropagation.\n",
        "- `train`: Executes the training loop for a specified number of epochs, iterating over the dataset in mini-batches, performing the forward pass, computing the loss, backpropagating the gradients, and updating the parameters.\n"
      ]
    },
    {
      "cell_type": "code",
      "execution_count": 18,
      "metadata": {
        "id": "nd1HjMLMUOAs"
      },
      "outputs": [],
      "source": [
        "class MLP:\n",
        "    def __init__(self, layers: list[Layer], loss_fn: Loss, lr: float) -> None:\n",
        "        \"\"\"\n",
        "        Multi-Layer Perceptron (MLP) class.\n",
        "        Arguments:\n",
        "        - layers: List of layers (e.g., Linear, ReLU, etc.).\n",
        "        - loss_fn: Loss function object (e.g., CrossEntropy, MSE).\n",
        "        - lr: Learning rate.\n",
        "        \"\"\"\n",
        "        self.layers = layers\n",
        "        self.loss_fn = loss_fn\n",
        "        self.lr = lr\n",
        "\n",
        "    def __call__(self, inp: np.ndarray) -> np.ndarray:\n",
        "        \"\"\"Makes the model callable, equivalent to forward pass.\"\"\"\n",
        "        return self.forward(inp)\n",
        "\n",
        "    def forward(self, inp: np.ndarray) -> np.ndarray:\n",
        "        \"\"\"Pass input through each layer sequentially.\"\"\"\n",
        "        for layer in self.layers:\n",
        "            inp = layer.forward(inp)\n",
        "        return inp\n",
        "\n",
        "    def loss(self, prediction: np.ndarray, target: np.ndarray) -> float:\n",
        "        \"\"\"Calculate the loss.\"\"\"\n",
        "        return self.loss_fn(prediction, target)\n",
        "\n",
        "    def backward(self) -> None:\n",
        "        \"\"\"Perform backpropagation by propagating the gradient backwards through the layers.\"\"\"\n",
        "        up_grad = self.loss_fn.backward()\n",
        "        for layer in reversed(self.layers):\n",
        "            up_grad = layer.backward(up_grad)\n",
        "\n",
        "    def update(self) -> None:\n",
        "        \"\"\"Update the parameters of each layer using the gradients and the learning rate.\"\"\"\n",
        "        for layer in self.layers:\n",
        "            if hasattr(layer, 'step'):  # Check if the layer has a 'step' method\n",
        "                layer.step(self.lr)\n",
        "\n",
        "    def train(self, x_train: np.ndarray, y_train: np.ndarray, epochs: int, batch_size: int) -> np.ndarray:\n",
        "        \"\"\"Train the MLP over the given dataset for a number of epochs.\"\"\"\n",
        "        from tqdm import trange  # For progress bar during training\n",
        "\n",
        "        losses = np.empty(epochs)\n",
        "        for epoch in (pbar := trange(epochs)):\n",
        "            running_loss = 0.0\n",
        "            for i in range(0, len(x_train), batch_size):\n",
        "                x_batch = x_train[i:i + batch_size]\n",
        "                y_batch = y_train[i:i + batch_size]\n",
        "\n",
        "                # Forward pass\n",
        "                prediction = self.forward(x_batch)\n",
        "\n",
        "                # Compute loss\n",
        "                running_loss += self.loss(prediction, y_batch) * len(x_batch)\n",
        "\n",
        "                # Backward pass\n",
        "                self.backward()\n",
        "\n",
        "                # Update parameters\n",
        "                self.update()\n",
        "\n",
        "            # Normalize running loss by total number of samples\n",
        "            running_loss /= len(x_train)\n",
        "            pbar.set_description(f\"Loss: {running_loss:.3f}\")\n",
        "            losses[epoch] = running_loss\n",
        "\n",
        "        return losses"
      ]
    },
    {
      "cell_type": "markdown",
      "metadata": {
        "id": "AzONLtl5kc8W"
      },
      "source": [
        "# Training"
      ]
    },
    {
      "cell_type": "markdown",
      "metadata": {
        "id": "r93pdZdrZ77B"
      },
      "source": [
        "## Loading the Fashion-MNIST Dataset"
      ]
    },
    {
      "cell_type": "markdown",
      "metadata": {
        "id": "bOCW3Kh9azY6"
      },
      "source": [
        "For simplicity you can use `get_data` to load the Fashion-MNIST dataset. Since we aren't using GPUs, in order to save time and get better results, we are only going to include 3 classes in our training. However you can easily modify this cell to include different classes."
      ]
    },
    {
      "cell_type": "code",
      "execution_count": 13,
      "metadata": {
        "id": "xmRyKM-oZ-hh",
        "colab": {
          "base_uri": "https://localhost:8080/"
        },
        "outputId": "5833d314-e378-43ed-856d-cc56d745e576"
      },
      "outputs": [
        {
          "output_type": "stream",
          "name": "stdout",
          "text": [
            "Downloading data from https://storage.googleapis.com/tensorflow/tf-keras-datasets/train-labels-idx1-ubyte.gz\n",
            "\u001b[1m29515/29515\u001b[0m \u001b[32m━━━━━━━━━━━━━━━━━━━━\u001b[0m\u001b[37m\u001b[0m \u001b[1m0s\u001b[0m 0us/step\n",
            "Downloading data from https://storage.googleapis.com/tensorflow/tf-keras-datasets/train-images-idx3-ubyte.gz\n",
            "\u001b[1m26421880/26421880\u001b[0m \u001b[32m━━━━━━━━━━━━━━━━━━━━\u001b[0m\u001b[37m\u001b[0m \u001b[1m0s\u001b[0m 0us/step\n",
            "Downloading data from https://storage.googleapis.com/tensorflow/tf-keras-datasets/t10k-labels-idx1-ubyte.gz\n",
            "\u001b[1m5148/5148\u001b[0m \u001b[32m━━━━━━━━━━━━━━━━━━━━\u001b[0m\u001b[37m\u001b[0m \u001b[1m0s\u001b[0m 1us/step\n",
            "Downloading data from https://storage.googleapis.com/tensorflow/tf-keras-datasets/t10k-images-idx3-ubyte.gz\n",
            "\u001b[1m4422102/4422102\u001b[0m \u001b[32m━━━━━━━━━━━━━━━━━━━━\u001b[0m\u001b[37m\u001b[0m \u001b[1m0s\u001b[0m 0us/step\n"
          ]
        }
      ],
      "source": [
        "from tensorflow.keras.datasets import fashion_mnist\n",
        "from sklearn.model_selection import train_test_split\n",
        "# Define the class names for the Fashion-MNIST dataset\n",
        "class_names = {0: 'T-shirt/top', 1: 'Trouser', 2: 'Pullover',\n",
        "               3: 'Dress', 4: 'Coat', 5: 'Sandal', 6: 'Shirt',\n",
        "               7: 'Sneaker', 8: 'Bag', 9: 'Ankle boot'}\n",
        "\n",
        "# TODO: Include all the classes you want to see in training\n",
        "# Example: kept_classes = [0, 1, 7]  # T-shirt/top, Trouser, Sneaker\n",
        "kept_classes = [0, 1, 7]  # Example: T-shirt/top, Trouser, Sneaker  # Fill in the class indices\n",
        "\n",
        "\n",
        "# Function to filter the dataset based on the selected classes\n",
        "def get_data(kept_classes):\n",
        "    # Load Fashion-MNIST dataset\n",
        "    (x_train, y_train), (x_test, y_test) = fashion_mnist.load_data()\n",
        "    train_filter = np.isin(y_train, kept_classes)\n",
        "    x_train, y_train = x_train[train_filter], y_train[train_filter]\n",
        "    test_filter = np.isin(y_test, kept_classes)\n",
        "    x_test, y_test = x_test[test_filter], y_test[test_filter]\n",
        "    class_mapping = {old_label: new_label for new_label, old_label in enumerate(kept_classes)}\n",
        "    y_train = np.vectorize(class_mapping.get)(y_train)\n",
        "    y_test = np.vectorize(class_mapping.get)(y_test)\n",
        "\n",
        "    # Normalize the input data to the range [0, 1]\n",
        "    x_train = x_train.astype('float32') / 255.0\n",
        "    x_test = x_test.astype('float32') / 255.0\n",
        "\n",
        "    # Flatten the images for compatibility with fully connected layers\n",
        "    x_train = x_train.reshape(x_train.shape[0], -1)  # (n_samples, 784)\n",
        "    x_test = x_test.reshape(x_test.shape[0], -1)    # (n_samples, 784)\n",
        "\n",
        "    return x_train, x_test, y_train, y_test\n",
        "\n",
        "# Function to one-hot encode the labels\n",
        "def onehot_encoder(labels, num_labels):\n",
        "    onehot = np.zeros((labels.size, num_labels))\n",
        "    onehot[np.arange(labels.size), labels] = 1\n",
        "    return onehot\n",
        "\n",
        "\n",
        "# TODO: Download the dataset and split it into training and testing sets\n",
        "# Use the `get_data` function to fetch and filter the dataset for `kept_classes`.\n",
        "# Example: x_train, x_test, y_train, y_test = get_data(kept_classes)\n",
        "x_train, x_test, y_train, y_test = get_data(kept_classes)  # Complete this line\n",
        "\n",
        "# TODO: One-hot encode the target labels of the training set\n",
        "# Use the `onehot_encoder` function to convert `y_train` into one-hot vectors.\n",
        "# Example: y_train = onehot_encoder(y_train, num_labels=len(kept_classes))\n",
        "y_train = onehot_encoder(y_train, num_labels=len(kept_classes))\n",
        "y_test = onehot_encoder(y_test, num_labels=len(kept_classes))  # Complete this line\n"
      ]
    },
    {
      "cell_type": "markdown",
      "metadata": {
        "id": "sZeNgQXybi4P"
      },
      "source": [
        "## Training the Network"
      ]
    },
    {
      "cell_type": "markdown",
      "metadata": {
        "id": "2qfmP-hYkpfz"
      },
      "source": [
        "Now we can define the network and train it on the dataset."
      ]
    },
    {
      "cell_type": "code",
      "execution_count": 19,
      "metadata": {
        "id": "eaIADoc8W7CS",
        "colab": {
          "base_uri": "https://localhost:8080/",
          "height": 582
        },
        "outputId": "8f3fd26c-83e3-47b3-d791-776589725443"
      },
      "outputs": [
        {
          "output_type": "stream",
          "name": "stderr",
          "text": [
            "Loss: 0.046: 100%|██████████| 30/30 [00:40<00:00,  1.34s/it]\n"
          ]
        },
        {
          "output_type": "display_data",
          "data": {
            "text/plain": [
              "<Figure size 800x600 with 1 Axes>"
            ],
            "image/png": "[encoded data removed]"
          },
          "metadata": {}
        }
      ],
      "source": [
        "# Define the layers of the neural network\n",
        "layers = [\n",
        "    # First Linear layer: transforms input size (784) to 50 units\n",
        "    Linear(in_dim=784, out_dim=50),\n",
        "\n",
        "    # ReLU activation\n",
        "    ReLU(),\n",
        "\n",
        "    # Second Linear layer: transforms input size (50) to 50 units\n",
        "    Linear(in_dim=50, out_dim=50),\n",
        "\n",
        "    # ReLU activation\n",
        "    ReLU(),\n",
        "\n",
        "    # Final Linear layer: transforms input size (50) to the number of classes\n",
        "    Linear(in_dim=50, out_dim=len(kept_classes)),\n",
        "\n",
        "    # Softmax activation for probabilities\n",
        "    Softmax()\n",
        "]\n",
        "\n",
        "# Define the loss function (CrossEntropy) and learning rate\n",
        "loss_fn = CrossEntropy()  # Assuming you have implemented this loss function\n",
        "learning_rate = 0.001\n",
        "\n",
        "# Create the model\n",
        "model = MLP(layers=layers, loss_fn=loss_fn, lr=learning_rate)\n",
        "\n",
        "# Train the model\n",
        "# Training data: x_train (inputs) and y_train (one-hot encoded labels)\n",
        "# Parameters: epochs = 30, batch size = 64\n",
        "losses = model.train(x_train, y_train, epochs=30, batch_size=64)\n",
        "\n",
        "# Plot the training loss curve\n",
        "def plot_loss_curve(losses):\n",
        "    \"\"\"Plot the training loss curve.\"\"\"\n",
        "    plt.figure(figsize=(8, 6))\n",
        "    plt.plot(losses, label=\"Training Loss\", color=\"blue\")\n",
        "    plt.title(\"Training Loss Curve\")\n",
        "    plt.xlabel(\"Epochs\")\n",
        "    plt.ylabel(\"Loss\")\n",
        "    plt.legend()\n",
        "    plt.grid()\n",
        "    plt.show()\n",
        "\n",
        "# Visualize the training loss\n",
        "plot_loss_curve(losses)\n"
      ]
    },
    {
      "cell_type": "markdown",
      "metadata": {
        "id": "H4Uh-ddyk2mR"
      },
      "source": [
        "## Evaluation"
      ]
    },
    {
      "cell_type": "markdown",
      "metadata": {
        "id": "sgO7eZ9Uk5X0"
      },
      "source": [
        "We can measure the models accuracy on the test dataset."
      ]
    },
    {
      "source": [
        "# Test the model\n",
        "# Use the trained model to make predictions on the test data (x_test)\n",
        "y_prediction = model.forward(x_test)  # Assuming the model has a 'forward' method that outputs predictions\n",
        "\n",
        "# Convert predictions from one-hot encoded to class labels\n",
        "y_prediction_labels = np.argmax(y_prediction, axis=1)\n",
        "\n",
        "# Convert y_test to class labels\n",
        "y_test_labels = np.argmax(y_test, axis=1)  # Convert one-hot encoded y_test to class labels\n",
        "\n",
        "# Calculate the accuracy by comparing the predicted labels (y_prediction_labels) with the true labels (y_test_labels)\n",
        "accuracy = np.mean(y_prediction_labels == y_test_labels) * 100  # Accuracy as percentage\n",
        "\n",
        "# Print the test accuracy\n",
        "print(f'Test accuracy with {len(y_train)} training examples on {len(y_test)} test samples is {accuracy:.2f}%')"
      ],
      "cell_type": "code",
      "metadata": {
        "colab": {
          "base_uri": "https://localhost:8080/"
        },
        "id": "fbNoyI2i7v9I",
        "outputId": "956d9eec-b65b-4fd2-a4e7-cd301fa29985"
      },
      "execution_count": 21,
      "outputs": [
        {
          "output_type": "stream",
          "name": "stdout",
          "text": [
            "Test accuracy with 18000 training examples on 3000 test samples is 98.47%\n"
          ]
        }
      ]
    },
    {
      "cell_type": "markdown",
      "metadata": {
        "id": "I2DrYQPilBlF"
      },
      "source": [
        "The confusion matrix can also be observed:"
      ]
    },
    {
      "source": [
        "# Plot the confusion matrix using your provided function\n",
        "plot_confusion_matrix(y_test_labels, y_prediction_labels, class_names, kept_classes)"
      ],
      "cell_type": "code",
      "metadata": {
        "colab": {
          "base_uri": "https://localhost:8080/",
          "height": 518
        },
        "id": "RN5nFxEh77pm",
        "outputId": "5626ea13-f51c-438d-f9d4-4f3f3c4dc890"
      },
      "execution_count": 22,
      "outputs": [
        {
          "output_type": "display_data",
          "data": {
            "text/plain": [
              "<Figure size 640x480 with 2 Axes>"
            ],
            "image/png": "[encoded data removed]"
          },
          "metadata": {}
        }
      ]
    }
  ],
  "metadata": {
    "colab": {
      "provenance": []
    },
    "kernelspec": {
      "display_name": "Python 3 (ipykernel)",
      "language": "python",
      "name": "python3"
    },
    "language_info": {
      "codemirror_mode": {
        "name": "ipython",
        "version": 3
      },
      "file_extension": ".py",
      "mimetype": "text/x-python",
      "name": "python",
      "nbconvert_exporter": "python",
      "pygments_lexer": "ipython3",
      "version": "3.12.6"
    }
  },
  "nbformat": 4,
  "nbformat_minor": 0
}